{
 "cells": [
  {
   "cell_type": "markdown",
   "id": "2cb996e3",
   "metadata": {},
   "source": [
    "## ML- Practical Homework 04\n",
    "### Alireza Ansari\n",
    "#### Stident ID: 400123114"
   ]
  },
  {
   "cell_type": "markdown",
   "id": "3a84758d",
   "metadata": {},
   "source": [
    "***"
   ]
  },
  {
   "cell_type": "markdown",
   "id": "37e6c728",
   "metadata": {},
   "source": [
    "### Question 04"
   ]
  },
  {
   "cell_type": "markdown",
   "id": "89c9b9e0",
   "metadata": {},
   "source": [
    "First, We need to import necessary libraries:"
   ]
  },
  {
   "cell_type": "code",
   "execution_count": 1,
   "id": "f81aab34",
   "metadata": {},
   "outputs": [],
   "source": [
    "import matplotlib.pyplot as plt\n",
    "from sklearn.metrics import confusion_matrix\n",
    "from sklearn.model_selection import cross_val_score\n",
    "from sklearn.svm import LinearSVC\n",
    "from sklearn.model_selection import cross_val_score\n",
    "import pandas as pd\n",
    "from sklearn.linear_model import SGDClassifier\n",
    "from sklearn.naive_bayes import MultinomialNB\n",
    "from sklearn.model_selection import train_test_split\n",
    "import time\n",
    "from sklearn import svm\n",
    "import numpy as np \n",
    "from sklearn.inspection import DecisionBoundaryDisplay"
   ]
  },
  {
   "cell_type": "markdown",
   "id": "add8a931",
   "metadata": {},
   "source": [
    "At the second step, we need to import the data and explore it "
   ]
  },
  {
   "cell_type": "code",
   "execution_count": 5,
   "id": "b87545e7",
   "metadata": {},
   "outputs": [
    {
     "data": {
      "text/html": [
       "<div>\n",
       "<style scoped>\n",
       "    .dataframe tbody tr th:only-of-type {\n",
       "        vertical-align: middle;\n",
       "    }\n",
       "\n",
       "    .dataframe tbody tr th {\n",
       "        vertical-align: top;\n",
       "    }\n",
       "\n",
       "    .dataframe thead th {\n",
       "        text-align: right;\n",
       "    }\n",
       "</style>\n",
       "<table border=\"1\" class=\"dataframe\">\n",
       "  <thead>\n",
       "    <tr style=\"text-align: right;\">\n",
       "      <th></th>\n",
       "      <th>9.779411554336546741e-01</th>\n",
       "      <th>9.264705777168273926e-01</th>\n",
       "      <th>6.813725233078002930e-01</th>\n",
       "      <th>2.450980395078659335e-01</th>\n",
       "      <th>1.544117629528045654e-01</th>\n",
       "      <th>1.911764740943908691e-01</th>\n",
       "      <th>1.519607901573181152e-01</th>\n",
       "      <th>8.578431606292723222e-02</th>\n",
       "      <th>5.882352963089942932e-02</th>\n",
       "      <th>4.901960864663124084e-02</th>\n",
       "      <th>...</th>\n",
       "      <th>0.000000000000000000e+00.79</th>\n",
       "      <th>0.000000000000000000e+00.80</th>\n",
       "      <th>0.000000000000000000e+00.81</th>\n",
       "      <th>0.000000000000000000e+00.82</th>\n",
       "      <th>0.000000000000000000e+00.83</th>\n",
       "      <th>0.000000000000000000e+00.84</th>\n",
       "      <th>0.000000000000000000e+00.85</th>\n",
       "      <th>0.000000000000000000e+00.86</th>\n",
       "      <th>0.000000000000000000e+00.87</th>\n",
       "      <th>0.000000000000000000e+00.88</th>\n",
       "    </tr>\n",
       "  </thead>\n",
       "  <tbody>\n",
       "    <tr>\n",
       "      <th>0</th>\n",
       "      <td>0.960114</td>\n",
       "      <td>0.863248</td>\n",
       "      <td>0.461538</td>\n",
       "      <td>0.196581</td>\n",
       "      <td>0.094017</td>\n",
       "      <td>0.125356</td>\n",
       "      <td>0.099715</td>\n",
       "      <td>0.088319</td>\n",
       "      <td>0.074074</td>\n",
       "      <td>0.082621</td>\n",
       "      <td>...</td>\n",
       "      <td>0.0</td>\n",
       "      <td>0.0</td>\n",
       "      <td>0.0</td>\n",
       "      <td>0.0</td>\n",
       "      <td>0.0</td>\n",
       "      <td>0.0</td>\n",
       "      <td>0.0</td>\n",
       "      <td>0.0</td>\n",
       "      <td>0.0</td>\n",
       "      <td>0.0</td>\n",
       "    </tr>\n",
       "    <tr>\n",
       "      <th>1</th>\n",
       "      <td>1.000000</td>\n",
       "      <td>0.659459</td>\n",
       "      <td>0.186486</td>\n",
       "      <td>0.070270</td>\n",
       "      <td>0.070270</td>\n",
       "      <td>0.059459</td>\n",
       "      <td>0.056757</td>\n",
       "      <td>0.043243</td>\n",
       "      <td>0.054054</td>\n",
       "      <td>0.045946</td>\n",
       "      <td>...</td>\n",
       "      <td>0.0</td>\n",
       "      <td>0.0</td>\n",
       "      <td>0.0</td>\n",
       "      <td>0.0</td>\n",
       "      <td>0.0</td>\n",
       "      <td>0.0</td>\n",
       "      <td>0.0</td>\n",
       "      <td>0.0</td>\n",
       "      <td>0.0</td>\n",
       "      <td>0.0</td>\n",
       "    </tr>\n",
       "    <tr>\n",
       "      <th>2</th>\n",
       "      <td>0.925414</td>\n",
       "      <td>0.665746</td>\n",
       "      <td>0.541436</td>\n",
       "      <td>0.276243</td>\n",
       "      <td>0.196133</td>\n",
       "      <td>0.077348</td>\n",
       "      <td>0.071823</td>\n",
       "      <td>0.060773</td>\n",
       "      <td>0.066298</td>\n",
       "      <td>0.058011</td>\n",
       "      <td>...</td>\n",
       "      <td>0.0</td>\n",
       "      <td>0.0</td>\n",
       "      <td>0.0</td>\n",
       "      <td>0.0</td>\n",
       "      <td>0.0</td>\n",
       "      <td>0.0</td>\n",
       "      <td>0.0</td>\n",
       "      <td>0.0</td>\n",
       "      <td>0.0</td>\n",
       "      <td>0.0</td>\n",
       "    </tr>\n",
       "    <tr>\n",
       "      <th>3</th>\n",
       "      <td>0.967136</td>\n",
       "      <td>1.000000</td>\n",
       "      <td>0.830986</td>\n",
       "      <td>0.586854</td>\n",
       "      <td>0.356808</td>\n",
       "      <td>0.248826</td>\n",
       "      <td>0.145540</td>\n",
       "      <td>0.089202</td>\n",
       "      <td>0.117371</td>\n",
       "      <td>0.150235</td>\n",
       "      <td>...</td>\n",
       "      <td>0.0</td>\n",
       "      <td>0.0</td>\n",
       "      <td>0.0</td>\n",
       "      <td>0.0</td>\n",
       "      <td>0.0</td>\n",
       "      <td>0.0</td>\n",
       "      <td>0.0</td>\n",
       "      <td>0.0</td>\n",
       "      <td>0.0</td>\n",
       "      <td>0.0</td>\n",
       "    </tr>\n",
       "    <tr>\n",
       "      <th>4</th>\n",
       "      <td>0.927461</td>\n",
       "      <td>1.000000</td>\n",
       "      <td>0.626943</td>\n",
       "      <td>0.193437</td>\n",
       "      <td>0.094991</td>\n",
       "      <td>0.072539</td>\n",
       "      <td>0.043178</td>\n",
       "      <td>0.053541</td>\n",
       "      <td>0.093264</td>\n",
       "      <td>0.189983</td>\n",
       "      <td>...</td>\n",
       "      <td>0.0</td>\n",
       "      <td>0.0</td>\n",
       "      <td>0.0</td>\n",
       "      <td>0.0</td>\n",
       "      <td>0.0</td>\n",
       "      <td>0.0</td>\n",
       "      <td>0.0</td>\n",
       "      <td>0.0</td>\n",
       "      <td>0.0</td>\n",
       "      <td>0.0</td>\n",
       "    </tr>\n",
       "  </tbody>\n",
       "</table>\n",
       "<p>5 rows × 188 columns</p>\n",
       "</div>"
      ],
      "text/plain": [
       "   9.779411554336546741e-01  9.264705777168273926e-01  \\\n",
       "0                  0.960114                  0.863248   \n",
       "1                  1.000000                  0.659459   \n",
       "2                  0.925414                  0.665746   \n",
       "3                  0.967136                  1.000000   \n",
       "4                  0.927461                  1.000000   \n",
       "\n",
       "   6.813725233078002930e-01  2.450980395078659335e-01  \\\n",
       "0                  0.461538                  0.196581   \n",
       "1                  0.186486                  0.070270   \n",
       "2                  0.541436                  0.276243   \n",
       "3                  0.830986                  0.586854   \n",
       "4                  0.626943                  0.193437   \n",
       "\n",
       "   1.544117629528045654e-01  1.911764740943908691e-01  \\\n",
       "0                  0.094017                  0.125356   \n",
       "1                  0.070270                  0.059459   \n",
       "2                  0.196133                  0.077348   \n",
       "3                  0.356808                  0.248826   \n",
       "4                  0.094991                  0.072539   \n",
       "\n",
       "   1.519607901573181152e-01  8.578431606292723222e-02  \\\n",
       "0                  0.099715                  0.088319   \n",
       "1                  0.056757                  0.043243   \n",
       "2                  0.071823                  0.060773   \n",
       "3                  0.145540                  0.089202   \n",
       "4                  0.043178                  0.053541   \n",
       "\n",
       "   5.882352963089942932e-02  4.901960864663124084e-02  ...  \\\n",
       "0                  0.074074                  0.082621  ...   \n",
       "1                  0.054054                  0.045946  ...   \n",
       "2                  0.066298                  0.058011  ...   \n",
       "3                  0.117371                  0.150235  ...   \n",
       "4                  0.093264                  0.189983  ...   \n",
       "\n",
       "   0.000000000000000000e+00.79  0.000000000000000000e+00.80  \\\n",
       "0                          0.0                          0.0   \n",
       "1                          0.0                          0.0   \n",
       "2                          0.0                          0.0   \n",
       "3                          0.0                          0.0   \n",
       "4                          0.0                          0.0   \n",
       "\n",
       "   0.000000000000000000e+00.81  0.000000000000000000e+00.82  \\\n",
       "0                          0.0                          0.0   \n",
       "1                          0.0                          0.0   \n",
       "2                          0.0                          0.0   \n",
       "3                          0.0                          0.0   \n",
       "4                          0.0                          0.0   \n",
       "\n",
       "   0.000000000000000000e+00.83  0.000000000000000000e+00.84  \\\n",
       "0                          0.0                          0.0   \n",
       "1                          0.0                          0.0   \n",
       "2                          0.0                          0.0   \n",
       "3                          0.0                          0.0   \n",
       "4                          0.0                          0.0   \n",
       "\n",
       "   0.000000000000000000e+00.85  0.000000000000000000e+00.86  \\\n",
       "0                          0.0                          0.0   \n",
       "1                          0.0                          0.0   \n",
       "2                          0.0                          0.0   \n",
       "3                          0.0                          0.0   \n",
       "4                          0.0                          0.0   \n",
       "\n",
       "   0.000000000000000000e+00.87  0.000000000000000000e+00.88  \n",
       "0                          0.0                          0.0  \n",
       "1                          0.0                          0.0  \n",
       "2                          0.0                          0.0  \n",
       "3                          0.0                          0.0  \n",
       "4                          0.0                          0.0  \n",
       "\n",
       "[5 rows x 188 columns]"
      ]
     },
     "execution_count": 5,
     "metadata": {},
     "output_type": "execute_result"
    }
   ],
   "source": [
    "df = pd.read_csv('mitbih.csv')\n",
    "df.head()\n",
    "# df.info()"
   ]
  },
  {
   "cell_type": "markdown",
   "id": "04982537",
   "metadata": {},
   "source": [
    "***"
   ]
  },
  {
   "cell_type": "markdown",
   "id": "2779a656",
   "metadata": {},
   "source": [
    "### Part A."
   ]
  },
  {
   "cell_type": "markdown",
   "id": "281bb909",
   "metadata": {},
   "source": [
    "At the following section, we try to split the data to Train, Validation and Test datasets(splitting training data into validation and training data).\n"
   ]
  },
  {
   "cell_type": "code",
   "execution_count": 6,
   "id": "fde7fa9e",
   "metadata": {},
   "outputs": [
    {
     "name": "stdout",
     "output_type": "stream",
     "text": [
      "(109445, 188)\n",
      "(57458, 187)\n",
      "(32834, 187)\n",
      "(19153, 187)\n"
     ]
    }
   ],
   "source": [
    "X = df.drop(columns=df.columns[-1]) # Features\n",
    "y = df[df.columns[-1]][:] # Classes\n",
    "\n",
    "[X_train, X_test, y_train, y_test]=train_test_split(X,y,stratify=y,random_state=1,test_size=0.3) # 70% train and 30% test\n",
    "# splitting training data into validation and training data\n",
    "[X_train, X_val, y_train, y_val]=train_test_split(X_train,y_train,stratify=y_train,test_size=0.25) \n",
    "print(df.shape)\n",
    "print(X_train.shape)\n",
    "print(X_test.shape)\n",
    "print(X_val.shape)"
   ]
  },
  {
   "cell_type": "markdown",
   "id": "e70c7f4c",
   "metadata": {},
   "source": [
    "At this point, we define the Linear Large Margin SVM Classifier. After that, by fitting the Train dataset, we report the accuracy of model"
   ]
  },
  {
   "cell_type": "code",
   "execution_count": 7,
   "id": "333cfaa0",
   "metadata": {},
   "outputs": [
    {
     "name": "stderr",
     "output_type": "stream",
     "text": [
      "C:\\Users\\alire\\AppData\\Roaming\\Python\\Python39\\site-packages\\sklearn\\svm\\_base.py:299: ConvergenceWarning: Solver terminated early (max_iter=2000).  Consider pre-processing your data with StandardScaler or MinMaxScaler.\n",
      "  warnings.warn(\n"
     ]
    },
    {
     "name": "stdout",
     "output_type": "stream",
     "text": [
      "Linear large margin SVM classifier accuarcy for test data: 73.7%\n",
      "Linear large margin SVM classifier accuarcy for train data: 73.2%\n",
      "number of support vectors: 12512\n"
     ]
    }
   ],
   "source": [
    "# Linear Large Margin SVM Classifier\n",
    "linearSVMClassifier=svm.SVC(kernel=\"linear\",C=1e-8,max_iter=2000,tol=0.01) \n",
    "linearSVMClassifier.fit(X_train,y_train) # Training\n",
    "print(f'Linear large margin SVM classifier accuarcy for test data: {linearSVMClassifier.score(X_test,y_test)*100:.1f}%')\n",
    "print(f'Linear large margin SVM classifier accuarcy for train data: {linearSVMClassifier.score(X_train,y_train)*100:.1f}%')\n",
    "\n",
    "# finding support vectors\n",
    "print(f'number of support vectors: {linearSVMClassifier.support_vectors_.shape[0]}')"
   ]
  },
  {
   "cell_type": "markdown",
   "id": "c2b69c66",
   "metadata": {},
   "source": [
    "#### As we can see, the accuracy of Linear large margin SVM classifier is: 73.7%\n",
    "\n",
    "#### and the accuracy of Linear large margin SVM classifier is: 73.2%\n",
    "\n",
    "#### and the total number of support vectors are: 12512"
   ]
  },
  {
   "cell_type": "markdown",
   "id": "1c1fefe5",
   "metadata": {},
   "source": [
    "***"
   ]
  },
  {
   "cell_type": "markdown",
   "id": "3ec859ee",
   "metadata": {},
   "source": [
    "### Part B."
   ]
  },
  {
   "cell_type": "markdown",
   "id": "cd89f218",
   "metadata": {},
   "source": [
    "In the following section, we will use linear SVM and Soft Margin. To find the best value of coefficient C, we use the results of the validation data accuracy chart for each coefficient. The mentioned diagram is obtained as follows:"
   ]
  },
  {
   "cell_type": "code",
   "execution_count": 9,
   "id": "b5777767",
   "metadata": {},
   "outputs": [
    {
     "name": "stderr",
     "output_type": "stream",
     "text": [
      "C:\\Users\\alire\\AppData\\Roaming\\Python\\Python39\\site-packages\\sklearn\\svm\\_base.py:299: ConvergenceWarning: Solver terminated early (max_iter=2000).  Consider pre-processing your data with StandardScaler or MinMaxScaler.\n",
      "  warnings.warn(\n",
      "C:\\Users\\alire\\AppData\\Roaming\\Python\\Python39\\site-packages\\sklearn\\svm\\_base.py:299: ConvergenceWarning: Solver terminated early (max_iter=2000).  Consider pre-processing your data with StandardScaler or MinMaxScaler.\n",
      "  warnings.warn(\n",
      "C:\\Users\\alire\\AppData\\Roaming\\Python\\Python39\\site-packages\\sklearn\\svm\\_base.py:299: ConvergenceWarning: Solver terminated early (max_iter=2000).  Consider pre-processing your data with StandardScaler or MinMaxScaler.\n",
      "  warnings.warn(\n",
      "C:\\Users\\alire\\AppData\\Roaming\\Python\\Python39\\site-packages\\sklearn\\svm\\_base.py:299: ConvergenceWarning: Solver terminated early (max_iter=2000).  Consider pre-processing your data with StandardScaler or MinMaxScaler.\n",
      "  warnings.warn(\n",
      "C:\\Users\\alire\\AppData\\Roaming\\Python\\Python39\\site-packages\\sklearn\\svm\\_base.py:299: ConvergenceWarning: Solver terminated early (max_iter=2000).  Consider pre-processing your data with StandardScaler or MinMaxScaler.\n",
      "  warnings.warn(\n"
     ]
    },
    {
     "name": "stdout",
     "output_type": "stream",
     "text": [
      "Best soft parameter: C=1.0\n"
     ]
    },
    {
     "name": "stderr",
     "output_type": "stream",
     "text": [
      "C:\\Users\\alire\\AppData\\Roaming\\Python\\Python39\\site-packages\\sklearn\\svm\\_base.py:299: ConvergenceWarning: Solver terminated early (max_iter=2000).  Consider pre-processing your data with StandardScaler or MinMaxScaler.\n",
      "  warnings.warn(\n"
     ]
    },
    {
     "name": "stdout",
     "output_type": "stream",
     "text": [
      "Best linear soft margin SVM classifier accuarcy for test data: 86.5%\n",
      "Best linear soft margin SVM classifier accuarcy for train data: 86.4%\n",
      "number of support vectors: 7488\n"
     ]
    },
    {
     "data": {
      "image/png": "[encoded data removed]",
      "text/plain": [
       "<Figure size 640x480 with 1 Axes>"
      ]
     },
     "metadata": {},
     "output_type": "display_data"
    }
   ],
   "source": [
    "# Linear Soft Margin SVM Classifier\n",
    "steps_num=5 # number of different soft parameters\n",
    "steps=np.logspace(-5,5,num=steps_num) # soft parameters\n",
    "val_score=[] # validation accuracies for different soft parameters\n",
    "\n",
    "for i in range(steps_num):\n",
    "  # defines linear SVM classifier with validation using 20% of the training data and without regularization\n",
    "  linearSVMClassifier=svm.SVC(kernel=\"linear\",C=steps[i],max_iter=2000,tol=0.01) \n",
    "  linearSVMClassifier.fit(X_train,y_train) # Training\n",
    "  val_score.append(linearSVMClassifier.score(X_val,y_val)) # stores validation data score for the specified soft parameter\n",
    "\n",
    "fig, axs = plt.subplots(1,1)\n",
    "plt.subplots_adjust(top=1.25)\n",
    "axs.plot(steps,val_score)\n",
    "axs.set(xlabel='Soft Parameter \\\"C\\\"', ylabel='Accuracy for Validation Data')\n",
    "axs.set_xscale('log')\n",
    "axs.grid()\n",
    "\n",
    "best_soft_param=steps[val_score.index(np.max(val_score))] # stores the best soft parameters based on the validation data scores\n",
    "print(f'Best soft parameter: C={best_soft_param}')\n",
    "\n",
    "linearSVMClassifier=svm.SVC(kernel=\"linear\",C=best_soft_param,max_iter=2000,tol=0.01) \n",
    "linearSVMClassifier.fit(X_train,y_train) # Training\n",
    "\n",
    "print(f'Best linear soft margin SVM classifier accuarcy for test data: {linearSVMClassifier.score(X_test,y_test)*100:.1f}%')\n",
    "print(f'Best linear soft margin SVM classifier accuarcy for train data: {linearSVMClassifier.score(X_train,y_train)*100:.1f}%')\n",
    "# finding support vectors\n",
    "print(f'number of support vectors: {linearSVMClassifier.support_vectors_.shape[0]}')"
   ]
  },
  {
   "cell_type": "markdown",
   "id": "32557e02",
   "metadata": {},
   "source": [
    "### In this way, the best coefficient C equal to 1 is obtained. Also, the accuracy for test and training data as well as the number of support vectors will be as follows:\n",
    "\n",
    "Best linear soft margin SVM classifier accuarcy for test data: 86.5%\n",
    "\n",
    "Best linear soft margin SVM classifier accuarcy for train data: 86.4%\n",
    "\n",
    "number of support vectors: 7488\n",
    "\n",
    "### The use of Soft Margin greatly helps the separation accuracy. The reason for this can be considered the presence of noisy data. In addition, it is unlikely that the data can be separated linearly. Also, the number of support vectors is reduced when using Soft Margin. The reason for this is that the more we move from C=0 to infinity, the size of the margins decreases and thus less data is placed inside this border."
   ]
  },
  {
   "cell_type": "markdown",
   "id": "0c22de88",
   "metadata": {},
   "source": [
    "***"
   ]
  },
  {
   "cell_type": "markdown",
   "id": "f5f19560",
   "metadata": {},
   "source": [
    "### Part C."
   ]
  },
  {
   "cell_type": "markdown",
   "id": "4b897c18",
   "metadata": {},
   "source": [
    "This time we use non-linear SVM. By examining two types of kernels, Polynomial (order 3) and RBF, the results of validation data for using these two types of kernels were obtained as follows:"
   ]
  },
  {
   "cell_type": "code",
   "execution_count": 10,
   "id": "d204479a",
   "metadata": {},
   "outputs": [
    {
     "name": "stderr",
     "output_type": "stream",
     "text": [
      "C:\\Users\\alire\\AppData\\Roaming\\Python\\Python39\\site-packages\\sklearn\\svm\\_base.py:299: ConvergenceWarning: Solver terminated early (max_iter=2000).  Consider pre-processing your data with StandardScaler or MinMaxScaler.\n",
      "  warnings.warn(\n",
      "C:\\Users\\alire\\AppData\\Roaming\\Python\\Python39\\site-packages\\sklearn\\svm\\_base.py:299: ConvergenceWarning: Solver terminated early (max_iter=2000).  Consider pre-processing your data with StandardScaler or MinMaxScaler.\n",
      "  warnings.warn(\n"
     ]
    },
    {
     "name": "stdout",
     "output_type": "stream",
     "text": [
      "SVC with RBF kernel validation data accuracy is: 87.6%\n",
      "SVC with polynomial (degree 3) kernel validation data accuracy is: 14.8%\n",
      "SVC with RBF kernel is the best nonlinear classifier between RBF and Polynomial kernels\n",
      "\n",
      "SVC with RBF kernel test data accuarcy is: 87.8%\n",
      "SVC with RBF kernel train data accuarcy is: 88.8%\n",
      "number of support vectors: 12357\n"
     ]
    }
   ],
   "source": [
    "# Nonlinear Large Margin SVM Classifier\n",
    "C = 1e-8  # SVM regularization parameter\n",
    "nonlinearSVMClassifiers = (\n",
    "    svm.SVC(kernel=\"rbf\", gamma=0.7, C=C,max_iter=2000,tol=0.01),\n",
    "    svm.SVC(kernel=\"poly\", degree=3, C=C,max_iter=2000,tol=0.01)\n",
    ")\n",
    "nonlinearSVMClassifiers = (clf.fit(X_train, y_train) for clf in nonlinearSVMClassifiers)\n",
    "\n",
    "# title for the plots\n",
    "titles = (\n",
    "    \"SVC with RBF kernel\",\n",
    "    \"SVC with polynomial (degree 3) kernel\",\n",
    ")\n",
    "models=list(nonlinearSVMClassifiers)\n",
    "scores=[]\n",
    "for i in range(2) :\n",
    "  scores.append(models[i].score(X_val,y_val))\n",
    "  print(f'{titles[i]} validation data accuracy is: {scores[i]*100:.1f}%' )\n",
    "\n",
    "best_kernel_index=np.where(scores==np.max(scores))[0][0]\n",
    "print(f'{titles[best_kernel_index]} is the best nonlinear classifier between RBF and Polynomial kernels')\n",
    "print(f'\\n{titles[best_kernel_index]} test data accuarcy is: {models[best_kernel_index].score(X_test,y_test)*100:.1f}%' )\n",
    "print(f'{titles[best_kernel_index]} train data accuarcy is: {models[best_kernel_index].score(X_train,y_train)*100:.1f}%' )\n",
    "# finding support vectors\n",
    "print(f'number of support vectors: {models[best_kernel_index].support_vectors_.shape[0]}')"
   ]
  },
  {
   "cell_type": "markdown",
   "id": "a2f16eda",
   "metadata": {},
   "source": [
    "### As we can see from the results above, the RBF kernel has a much better performance on this dataset. Also, the accuracy for test and training data as well as the number of support vectors for this kernel will be as follows:\n",
    "\n",
    "SVC with RBF kernel test data accuarcy is: 87.8%\n",
    "\n",
    "SVC with RBF kernel train data accuarcy is: 88.8%\n",
    "\n",
    "number of support vectors: 12357"
   ]
  },
  {
   "cell_type": "markdown",
   "id": "b47cf6ed",
   "metadata": {},
   "source": [
    "***"
   ]
  },
  {
   "cell_type": "markdown",
   "id": "173b7a35",
   "metadata": {},
   "source": [
    "### Part D."
   ]
  },
  {
   "cell_type": "markdown",
   "id": "82fad642",
   "metadata": {},
   "source": [
    "In this part, we also use Soft Margin in the non-linear SVM with RBF kernel from the previous part. To find the best coefficient C, we used the results of the validation data accuracy chart for each coefficient. The mentioned diagram is obtained as follows:"
   ]
  },
  {
   "cell_type": "code",
   "execution_count": 11,
   "id": "ce01f189",
   "metadata": {},
   "outputs": [
    {
     "name": "stderr",
     "output_type": "stream",
     "text": [
      "C:\\Users\\alire\\AppData\\Roaming\\Python\\Python39\\site-packages\\sklearn\\svm\\_base.py:299: ConvergenceWarning: Solver terminated early (max_iter=2000).  Consider pre-processing your data with StandardScaler or MinMaxScaler.\n",
      "  warnings.warn(\n",
      "C:\\Users\\alire\\AppData\\Roaming\\Python\\Python39\\site-packages\\sklearn\\svm\\_base.py:299: ConvergenceWarning: Solver terminated early (max_iter=2000).  Consider pre-processing your data with StandardScaler or MinMaxScaler.\n",
      "  warnings.warn(\n",
      "C:\\Users\\alire\\AppData\\Roaming\\Python\\Python39\\site-packages\\sklearn\\svm\\_base.py:299: ConvergenceWarning: Solver terminated early (max_iter=2000).  Consider pre-processing your data with StandardScaler or MinMaxScaler.\n",
      "  warnings.warn(\n",
      "C:\\Users\\alire\\AppData\\Roaming\\Python\\Python39\\site-packages\\sklearn\\svm\\_base.py:299: ConvergenceWarning: Solver terminated early (max_iter=2000).  Consider pre-processing your data with StandardScaler or MinMaxScaler.\n",
      "  warnings.warn(\n",
      "C:\\Users\\alire\\AppData\\Roaming\\Python\\Python39\\site-packages\\sklearn\\svm\\_base.py:299: ConvergenceWarning: Solver terminated early (max_iter=2000).  Consider pre-processing your data with StandardScaler or MinMaxScaler.\n",
      "  warnings.warn(\n"
     ]
    },
    {
     "name": "stdout",
     "output_type": "stream",
     "text": [
      "Best soft parameter: 316.22776601683796\n"
     ]
    },
    {
     "name": "stderr",
     "output_type": "stream",
     "text": [
      "C:\\Users\\alire\\AppData\\Roaming\\Python\\Python39\\site-packages\\sklearn\\svm\\_base.py:299: ConvergenceWarning: Solver terminated early (max_iter=2000).  Consider pre-processing your data with StandardScaler or MinMaxScaler.\n",
      "  warnings.warn(\n"
     ]
    },
    {
     "name": "stdout",
     "output_type": "stream",
     "text": [
      "\n",
      "test data accuarcy is: 98.0%\n",
      "train data accuarcy is: 100.0%\n",
      "number of support vectors: 7607\n"
     ]
    },
    {
     "data": {
      "image/png": "[encoded data removed]",
      "text/plain": [
       "<Figure size 640x480 with 1 Axes>"
      ]
     },
     "metadata": {},
     "output_type": "display_data"
    }
   ],
   "source": [
    "# Nonlinear Soft Margin SVM Classifier\n",
    "steps_num=5 # number of different soft parameters\n",
    "steps=np.logspace(-5,5,num=steps_num) # soft parameters\n",
    "val_score=[] # validation accuracies for different steps\n",
    "\n",
    "for i in range(steps_num):\n",
    "  # defines nonlinear SVM classifier with validation using 20% of the training data and without regularization\n",
    "  nonlinearSVMClassifier=svm.SVC(kernel=\"rbf\", gamma=0.7, C=steps[i],max_iter=2000,tol=0.01)\n",
    "  nonlinearSVMClassifier.fit(X_train,y_train) # Training\n",
    "  val_score.append(nonlinearSVMClassifier.score(X_val,y_val)) # stores validation data score for the specified soft parameter\n",
    "\n",
    "fig, axs = plt.subplots(1,1)\n",
    "plt.subplots_adjust(top=1.25)\n",
    "\n",
    "axs.plot(steps,val_score)\n",
    "axs.set(xlabel='Soft Parameter \\\"C\\\"', ylabel='Accuracy for Validation Data')\n",
    "axs.set_xscale('log')\n",
    "axs.grid()\n",
    "\n",
    "\n",
    "best_soft_param=steps[val_score.index(np.max(val_score))] # stores the best soft parameters based on the validation data scores\n",
    "print(f'Best soft parameter: {best_soft_param}')\n",
    "\n",
    "nonlinearSVMClassifier=svm.SVC(kernel=\"rbf\", gamma=0.7, C=best_soft_param,max_iter=2000,tol=0.01)\n",
    "nonlinearSVMClassifier.fit(X_train,y_train) # Training\n",
    "\n",
    "print(f'\\ntest data accuarcy is: {nonlinearSVMClassifier.score(X_test,y_test)*100:.1f}%' )\n",
    "print(f'train data accuarcy is: {nonlinearSVMClassifier.score(X_train,y_train)*100:.1f}%' )\n",
    "# finding support vectors\n",
    "print(f'number of support vectors: {nonlinearSVMClassifier.support_vectors_.shape[0]}')"
   ]
  },
  {
   "cell_type": "markdown",
   "id": "a5b9194e",
   "metadata": {},
   "source": [
    "### Thus, the best coefficient C will be equal to 316.22. Also, using this coefficient, the accuracy for test and training data as well as the number of support vectors will be equal to the following:\n",
    "\n",
    "test data accuarcy is: 98.0%\n",
    "\n",
    "train data accuarcy is: 100.0%\n",
    "\n",
    "number of support vectors: 7607\n",
    "\n",
    "### Considering the very good accuracy obtained from the non-linear RBF kernel compared to the linear SVM, it can be concluded that the problem dataset is completely non-linearly separable."
   ]
  },
  {
   "cell_type": "markdown",
   "id": "1011757b",
   "metadata": {},
   "source": [
    "***"
   ]
  },
  {
   "cell_type": "markdown",
   "id": "a5ed1ecb",
   "metadata": {},
   "source": [
    "### Part E."
   ]
  },
  {
   "cell_type": "markdown",
   "id": "fa961305",
   "metadata": {},
   "source": [
    "In this part, we will use Nonlinear Soft Margin SVM Classifier With 5-fold Cross-Validation. \n"
   ]
  },
  {
   "cell_type": "code",
   "execution_count": 12,
   "id": "4f9c5efa",
   "metadata": {},
   "outputs": [
    {
     "name": "stderr",
     "output_type": "stream",
     "text": [
      "C:\\Users\\alire\\AppData\\Roaming\\Python\\Python39\\site-packages\\sklearn\\svm\\_base.py:299: ConvergenceWarning: Solver terminated early (max_iter=1000).  Consider pre-processing your data with StandardScaler or MinMaxScaler.\n",
      "  warnings.warn(\n",
      "C:\\Users\\alire\\AppData\\Roaming\\Python\\Python39\\site-packages\\sklearn\\svm\\_base.py:299: ConvergenceWarning: Solver terminated early (max_iter=1000).  Consider pre-processing your data with StandardScaler or MinMaxScaler.\n",
      "  warnings.warn(\n",
      "C:\\Users\\alire\\AppData\\Roaming\\Python\\Python39\\site-packages\\sklearn\\svm\\_base.py:299: ConvergenceWarning: Solver terminated early (max_iter=1000).  Consider pre-processing your data with StandardScaler or MinMaxScaler.\n",
      "  warnings.warn(\n",
      "C:\\Users\\alire\\AppData\\Roaming\\Python\\Python39\\site-packages\\sklearn\\svm\\_base.py:299: ConvergenceWarning: Solver terminated early (max_iter=1000).  Consider pre-processing your data with StandardScaler or MinMaxScaler.\n",
      "  warnings.warn(\n",
      "C:\\Users\\alire\\AppData\\Roaming\\Python\\Python39\\site-packages\\sklearn\\svm\\_base.py:299: ConvergenceWarning: Solver terminated early (max_iter=1000).  Consider pre-processing your data with StandardScaler or MinMaxScaler.\n",
      "  warnings.warn(\n",
      "C:\\Users\\alire\\AppData\\Roaming\\Python\\Python39\\site-packages\\sklearn\\svm\\_base.py:299: ConvergenceWarning: Solver terminated early (max_iter=1000).  Consider pre-processing your data with StandardScaler or MinMaxScaler.\n",
      "  warnings.warn(\n",
      "C:\\Users\\alire\\AppData\\Roaming\\Python\\Python39\\site-packages\\sklearn\\svm\\_base.py:299: ConvergenceWarning: Solver terminated early (max_iter=1000).  Consider pre-processing your data with StandardScaler or MinMaxScaler.\n",
      "  warnings.warn(\n",
      "C:\\Users\\alire\\AppData\\Roaming\\Python\\Python39\\site-packages\\sklearn\\svm\\_base.py:299: ConvergenceWarning: Solver terminated early (max_iter=1000).  Consider pre-processing your data with StandardScaler or MinMaxScaler.\n",
      "  warnings.warn(\n",
      "C:\\Users\\alire\\AppData\\Roaming\\Python\\Python39\\site-packages\\sklearn\\svm\\_base.py:299: ConvergenceWarning: Solver terminated early (max_iter=1000).  Consider pre-processing your data with StandardScaler or MinMaxScaler.\n",
      "  warnings.warn(\n",
      "C:\\Users\\alire\\AppData\\Roaming\\Python\\Python39\\site-packages\\sklearn\\svm\\_base.py:299: ConvergenceWarning: Solver terminated early (max_iter=1000).  Consider pre-processing your data with StandardScaler or MinMaxScaler.\n",
      "  warnings.warn(\n",
      "C:\\Users\\alire\\AppData\\Roaming\\Python\\Python39\\site-packages\\sklearn\\svm\\_base.py:299: ConvergenceWarning: Solver terminated early (max_iter=1000).  Consider pre-processing your data with StandardScaler or MinMaxScaler.\n",
      "  warnings.warn(\n",
      "C:\\Users\\alire\\AppData\\Roaming\\Python\\Python39\\site-packages\\sklearn\\svm\\_base.py:299: ConvergenceWarning: Solver terminated early (max_iter=1000).  Consider pre-processing your data with StandardScaler or MinMaxScaler.\n",
      "  warnings.warn(\n",
      "C:\\Users\\alire\\AppData\\Roaming\\Python\\Python39\\site-packages\\sklearn\\svm\\_base.py:299: ConvergenceWarning: Solver terminated early (max_iter=1000).  Consider pre-processing your data with StandardScaler or MinMaxScaler.\n",
      "  warnings.warn(\n",
      "C:\\Users\\alire\\AppData\\Roaming\\Python\\Python39\\site-packages\\sklearn\\svm\\_base.py:299: ConvergenceWarning: Solver terminated early (max_iter=1000).  Consider pre-processing your data with StandardScaler or MinMaxScaler.\n",
      "  warnings.warn(\n",
      "C:\\Users\\alire\\AppData\\Roaming\\Python\\Python39\\site-packages\\sklearn\\svm\\_base.py:299: ConvergenceWarning: Solver terminated early (max_iter=1000).  Consider pre-processing your data with StandardScaler or MinMaxScaler.\n",
      "  warnings.warn(\n",
      "C:\\Users\\alire\\AppData\\Roaming\\Python\\Python39\\site-packages\\sklearn\\svm\\_base.py:299: ConvergenceWarning: Solver terminated early (max_iter=1000).  Consider pre-processing your data with StandardScaler or MinMaxScaler.\n",
      "  warnings.warn(\n",
      "C:\\Users\\alire\\AppData\\Roaming\\Python\\Python39\\site-packages\\sklearn\\svm\\_base.py:299: ConvergenceWarning: Solver terminated early (max_iter=1000).  Consider pre-processing your data with StandardScaler or MinMaxScaler.\n",
      "  warnings.warn(\n",
      "C:\\Users\\alire\\AppData\\Roaming\\Python\\Python39\\site-packages\\sklearn\\svm\\_base.py:299: ConvergenceWarning: Solver terminated early (max_iter=1000).  Consider pre-processing your data with StandardScaler or MinMaxScaler.\n",
      "  warnings.warn(\n",
      "C:\\Users\\alire\\AppData\\Roaming\\Python\\Python39\\site-packages\\sklearn\\svm\\_base.py:299: ConvergenceWarning: Solver terminated early (max_iter=1000).  Consider pre-processing your data with StandardScaler or MinMaxScaler.\n",
      "  warnings.warn(\n",
      "C:\\Users\\alire\\AppData\\Roaming\\Python\\Python39\\site-packages\\sklearn\\svm\\_base.py:299: ConvergenceWarning: Solver terminated early (max_iter=1000).  Consider pre-processing your data with StandardScaler or MinMaxScaler.\n",
      "  warnings.warn(\n",
      "C:\\Users\\alire\\AppData\\Roaming\\Python\\Python39\\site-packages\\sklearn\\svm\\_base.py:299: ConvergenceWarning: Solver terminated early (max_iter=1000).  Consider pre-processing your data with StandardScaler or MinMaxScaler.\n",
      "  warnings.warn(\n",
      "C:\\Users\\alire\\AppData\\Roaming\\Python\\Python39\\site-packages\\sklearn\\svm\\_base.py:299: ConvergenceWarning: Solver terminated early (max_iter=1000).  Consider pre-processing your data with StandardScaler or MinMaxScaler.\n",
      "  warnings.warn(\n",
      "C:\\Users\\alire\\AppData\\Roaming\\Python\\Python39\\site-packages\\sklearn\\svm\\_base.py:299: ConvergenceWarning: Solver terminated early (max_iter=1000).  Consider pre-processing your data with StandardScaler or MinMaxScaler.\n",
      "  warnings.warn(\n",
      "C:\\Users\\alire\\AppData\\Roaming\\Python\\Python39\\site-packages\\sklearn\\svm\\_base.py:299: ConvergenceWarning: Solver terminated early (max_iter=1000).  Consider pre-processing your data with StandardScaler or MinMaxScaler.\n",
      "  warnings.warn(\n",
      "C:\\Users\\alire\\AppData\\Roaming\\Python\\Python39\\site-packages\\sklearn\\svm\\_base.py:299: ConvergenceWarning: Solver terminated early (max_iter=1000).  Consider pre-processing your data with StandardScaler or MinMaxScaler.\n",
      "  warnings.warn(\n"
     ]
    },
    {
     "ename": "ValueError",
     "evalue": "x and y must have same first dimension, but have shapes (5,) and (0,)",
     "output_type": "error",
     "traceback": [
      "\u001b[1;31m---------------------------------------------------------------------------\u001b[0m",
      "\u001b[1;31mValueError\u001b[0m                                Traceback (most recent call last)",
      "\u001b[1;32m~\\AppData\\Local\\Temp\\ipykernel_20816\\4239832846.py\u001b[0m in \u001b[0;36m<module>\u001b[1;34m\u001b[0m\n\u001b[0;32m     14\u001b[0m \u001b[0mplt\u001b[0m\u001b[1;33m.\u001b[0m\u001b[0msubplots_adjust\u001b[0m\u001b[1;33m(\u001b[0m\u001b[0mtop\u001b[0m\u001b[1;33m=\u001b[0m\u001b[1;36m1.25\u001b[0m\u001b[1;33m)\u001b[0m\u001b[1;33m\u001b[0m\u001b[1;33m\u001b[0m\u001b[0m\n\u001b[0;32m     15\u001b[0m \u001b[1;33m\u001b[0m\u001b[0m\n\u001b[1;32m---> 16\u001b[1;33m \u001b[0maxs\u001b[0m\u001b[1;33m.\u001b[0m\u001b[0mplot\u001b[0m\u001b[1;33m(\u001b[0m\u001b[0msteps\u001b[0m\u001b[1;33m,\u001b[0m\u001b[0mval_score\u001b[0m\u001b[1;33m)\u001b[0m\u001b[1;33m\u001b[0m\u001b[1;33m\u001b[0m\u001b[0m\n\u001b[0m\u001b[0;32m     17\u001b[0m \u001b[0maxs\u001b[0m\u001b[1;33m.\u001b[0m\u001b[0mset\u001b[0m\u001b[1;33m(\u001b[0m\u001b[0mxlabel\u001b[0m\u001b[1;33m=\u001b[0m\u001b[1;34m'Soft Parameter \\\"C\\\"'\u001b[0m\u001b[1;33m,\u001b[0m \u001b[0mylabel\u001b[0m\u001b[1;33m=\u001b[0m\u001b[1;34m'Accuracy for Validation Data'\u001b[0m\u001b[1;33m)\u001b[0m\u001b[1;33m\u001b[0m\u001b[1;33m\u001b[0m\u001b[0m\n\u001b[0;32m     18\u001b[0m \u001b[0maxs\u001b[0m\u001b[1;33m.\u001b[0m\u001b[0mset_xscale\u001b[0m\u001b[1;33m(\u001b[0m\u001b[1;34m'log'\u001b[0m\u001b[1;33m)\u001b[0m\u001b[1;33m\u001b[0m\u001b[1;33m\u001b[0m\u001b[0m\n",
      "\u001b[1;32mC:\\ProgramData\\Anaconda3\\lib\\site-packages\\matplotlib\\axes\\_axes.py\u001b[0m in \u001b[0;36mplot\u001b[1;34m(self, scalex, scaley, data, *args, **kwargs)\u001b[0m\n\u001b[0;32m   1630\u001b[0m         \"\"\"\n\u001b[0;32m   1631\u001b[0m         \u001b[0mkwargs\u001b[0m \u001b[1;33m=\u001b[0m \u001b[0mcbook\u001b[0m\u001b[1;33m.\u001b[0m\u001b[0mnormalize_kwargs\u001b[0m\u001b[1;33m(\u001b[0m\u001b[0mkwargs\u001b[0m\u001b[1;33m,\u001b[0m \u001b[0mmlines\u001b[0m\u001b[1;33m.\u001b[0m\u001b[0mLine2D\u001b[0m\u001b[1;33m)\u001b[0m\u001b[1;33m\u001b[0m\u001b[1;33m\u001b[0m\u001b[0m\n\u001b[1;32m-> 1632\u001b[1;33m         \u001b[0mlines\u001b[0m \u001b[1;33m=\u001b[0m \u001b[1;33m[\u001b[0m\u001b[1;33m*\u001b[0m\u001b[0mself\u001b[0m\u001b[1;33m.\u001b[0m\u001b[0m_get_lines\u001b[0m\u001b[1;33m(\u001b[0m\u001b[1;33m*\u001b[0m\u001b[0margs\u001b[0m\u001b[1;33m,\u001b[0m \u001b[0mdata\u001b[0m\u001b[1;33m=\u001b[0m\u001b[0mdata\u001b[0m\u001b[1;33m,\u001b[0m \u001b[1;33m**\u001b[0m\u001b[0mkwargs\u001b[0m\u001b[1;33m)\u001b[0m\u001b[1;33m]\u001b[0m\u001b[1;33m\u001b[0m\u001b[1;33m\u001b[0m\u001b[0m\n\u001b[0m\u001b[0;32m   1633\u001b[0m         \u001b[1;32mfor\u001b[0m \u001b[0mline\u001b[0m \u001b[1;32min\u001b[0m \u001b[0mlines\u001b[0m\u001b[1;33m:\u001b[0m\u001b[1;33m\u001b[0m\u001b[1;33m\u001b[0m\u001b[0m\n\u001b[0;32m   1634\u001b[0m             \u001b[0mself\u001b[0m\u001b[1;33m.\u001b[0m\u001b[0madd_line\u001b[0m\u001b[1;33m(\u001b[0m\u001b[0mline\u001b[0m\u001b[1;33m)\u001b[0m\u001b[1;33m\u001b[0m\u001b[1;33m\u001b[0m\u001b[0m\n",
      "\u001b[1;32mC:\\ProgramData\\Anaconda3\\lib\\site-packages\\matplotlib\\axes\\_base.py\u001b[0m in \u001b[0;36m__call__\u001b[1;34m(self, data, *args, **kwargs)\u001b[0m\n\u001b[0;32m    310\u001b[0m                 \u001b[0mthis\u001b[0m \u001b[1;33m+=\u001b[0m \u001b[0margs\u001b[0m\u001b[1;33m[\u001b[0m\u001b[1;36m0\u001b[0m\u001b[1;33m]\u001b[0m\u001b[1;33m,\u001b[0m\u001b[1;33m\u001b[0m\u001b[1;33m\u001b[0m\u001b[0m\n\u001b[0;32m    311\u001b[0m                 \u001b[0margs\u001b[0m \u001b[1;33m=\u001b[0m \u001b[0margs\u001b[0m\u001b[1;33m[\u001b[0m\u001b[1;36m1\u001b[0m\u001b[1;33m:\u001b[0m\u001b[1;33m]\u001b[0m\u001b[1;33m\u001b[0m\u001b[1;33m\u001b[0m\u001b[0m\n\u001b[1;32m--> 312\u001b[1;33m             \u001b[1;32myield\u001b[0m \u001b[1;32mfrom\u001b[0m \u001b[0mself\u001b[0m\u001b[1;33m.\u001b[0m\u001b[0m_plot_args\u001b[0m\u001b[1;33m(\u001b[0m\u001b[0mthis\u001b[0m\u001b[1;33m,\u001b[0m \u001b[0mkwargs\u001b[0m\u001b[1;33m)\u001b[0m\u001b[1;33m\u001b[0m\u001b[1;33m\u001b[0m\u001b[0m\n\u001b[0m\u001b[0;32m    313\u001b[0m \u001b[1;33m\u001b[0m\u001b[0m\n\u001b[0;32m    314\u001b[0m     \u001b[1;32mdef\u001b[0m \u001b[0mget_next_color\u001b[0m\u001b[1;33m(\u001b[0m\u001b[0mself\u001b[0m\u001b[1;33m)\u001b[0m\u001b[1;33m:\u001b[0m\u001b[1;33m\u001b[0m\u001b[1;33m\u001b[0m\u001b[0m\n",
      "\u001b[1;32mC:\\ProgramData\\Anaconda3\\lib\\site-packages\\matplotlib\\axes\\_base.py\u001b[0m in \u001b[0;36m_plot_args\u001b[1;34m(self, tup, kwargs, return_kwargs)\u001b[0m\n\u001b[0;32m    496\u001b[0m \u001b[1;33m\u001b[0m\u001b[0m\n\u001b[0;32m    497\u001b[0m         \u001b[1;32mif\u001b[0m \u001b[0mx\u001b[0m\u001b[1;33m.\u001b[0m\u001b[0mshape\u001b[0m\u001b[1;33m[\u001b[0m\u001b[1;36m0\u001b[0m\u001b[1;33m]\u001b[0m \u001b[1;33m!=\u001b[0m \u001b[0my\u001b[0m\u001b[1;33m.\u001b[0m\u001b[0mshape\u001b[0m\u001b[1;33m[\u001b[0m\u001b[1;36m0\u001b[0m\u001b[1;33m]\u001b[0m\u001b[1;33m:\u001b[0m\u001b[1;33m\u001b[0m\u001b[1;33m\u001b[0m\u001b[0m\n\u001b[1;32m--> 498\u001b[1;33m             raise ValueError(f\"x and y must have same first dimension, but \"\n\u001b[0m\u001b[0;32m    499\u001b[0m                              f\"have shapes {x.shape} and {y.shape}\")\n\u001b[0;32m    500\u001b[0m         \u001b[1;32mif\u001b[0m \u001b[0mx\u001b[0m\u001b[1;33m.\u001b[0m\u001b[0mndim\u001b[0m \u001b[1;33m>\u001b[0m \u001b[1;36m2\u001b[0m \u001b[1;32mor\u001b[0m \u001b[0my\u001b[0m\u001b[1;33m.\u001b[0m\u001b[0mndim\u001b[0m \u001b[1;33m>\u001b[0m \u001b[1;36m2\u001b[0m\u001b[1;33m:\u001b[0m\u001b[1;33m\u001b[0m\u001b[1;33m\u001b[0m\u001b[0m\n",
      "\u001b[1;31mValueError\u001b[0m: x and y must have same first dimension, but have shapes (5,) and (0,)"
     ]
    },
    {
     "data": {
      "image/png": "[encoded data removed]",
      "text/plain": [
       "<Figure size 640x480 with 1 Axes>"
      ]
     },
     "metadata": {},
     "output_type": "display_data"
    }
   ],
   "source": [
    "steps_num=5 # number of different soft parameters\n",
    "steps=np.logspace(-5,5,num=steps_num) # soft parameters\n",
    "val_score=[] # validation accuracies for different steps\n",
    "kFoldCVs=[]\n",
    "\n",
    "for i in range(steps_num):\n",
    "  # defines nonlinear SVM classifier with validation using 20% of the training data and without regularization\n",
    "  nonlinearSVMClassifier=svm.SVC(kernel=\"rbf\", gamma=0.7, C=steps[i],max_iter=1000,tol=0.01)\n",
    "  kFoldScores=cross_val_score(nonlinearSVMClassifier, X, y, cv=5) # divides data into 5 folds\n",
    "  kFoldCV=np.mean(kFoldScores)\n",
    "  kFoldCVs.append(kFoldCV) # stores training data score for the specified regularization parameters\n",
    "\n",
    "fig, axs = plt.subplots(1,1)\n",
    "plt.subplots_adjust(top=1.25)\n",
    "\n",
    "axs.plot(steps,val_score)\n",
    "axs.set(xlabel='Soft Parameter \\\"C\\\"', ylabel='Accuracy for Validation Data')\n",
    "axs.set_xscale('log')\n",
    "\n",
    "best_soft_param=steps[kFoldCVs.index(np.max(kFoldCVs))] # stores the best soft parameters based on the validation data scores\n",
    "print(f'Best soft parameter: {best_soft_param}')\n",
    "\n",
    "nonlinearSVMClassifier=svm.SVC(kernel=\"rbf\", gamma=0.7, C=best_soft_param,max_iter=2000,tol=0.01)\n",
    "nonlinearSVMClassifier.fit(X_train,y_train) # Training\n",
    "\n",
    "print(f'\\ntest data accuarcy is: {nonlinearSVMClassifier.score(X_test,y_test)*100:.1f}%' )\n",
    "print(f'train data accuarcy is: {nonlinearSVMClassifier.score(X_train,y_train)*100:.1f}%' )\n",
    "# finding support vectors\n",
    "print(f'number of support vectors: {nonlinearSVMClassifier.support_vectors_.shape[0]}')"
   ]
  }
 ],
 "metadata": {
  "kernelspec": {
   "display_name": "Python 3 (ipykernel)",
   "language": "python",
   "name": "python3"
  },
  "language_info": {
   "codemirror_mode": {
    "name": "ipython",
    "version": 3
   },
   "file_extension": ".py",
   "mimetype": "text/x-python",
   "name": "python",
   "nbconvert_exporter": "python",
   "pygments_lexer": "ipython3",
   "version": "3.9.13"
  }
 },
 "nbformat": 4,
 "nbformat_minor": 5
}
